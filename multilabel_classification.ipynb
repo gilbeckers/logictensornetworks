{
 "cells": [
  {
   "cell_type": "code",
   "execution_count": 2,
   "metadata": {},
   "outputs": [],
   "source": [
    "import warnings\n",
    "warnings.filterwarnings('ignore')\n",
    "\n",
    "import logging;logging.basicConfig(level=logging.INFO);\n",
    "import numpy as np;\n",
    "import matplotlib.pyplot as plt; \n",
    "import logictensornetworks_wrapper as ltnw;"
   ]
  },
  {
   "cell_type": "code",
   "execution_count": 3,
   "metadata": {},
   "outputs": [],
   "source": [
    "nr_samples=500\n",
    "max_epochs=10000\n",
    "track_sat_levels=1000 #how often we query the knowledgebase sat level in training"
   ]
  },
  {
   "cell_type": "markdown",
   "metadata": {},
   "source": [
    "Sample random data from $[0,1]^2$"
   ]
  },
  {
   "cell_type": "code",
   "execution_count": 4,
   "metadata": {},
   "outputs": [],
   "source": [
    "data=np.random.uniform([0,0],[1.,1.],(nr_samples,2)).astype(np.float32)"
   ]
  },
  {
   "cell_type": "code",
   "execution_count": 6,
   "metadata": {},
   "outputs": [],
   "source": [
    "data_A=data[np.where(np.sum(np.square(data-[.5,.5]),axis=1)<.09)]\n",
    "data_B=data[np.where(np.sum(np.square(data-[.5,.5]),axis=1)>=.09)]"
   ]
  }
 ],
 "metadata": {
  "kernelspec": {
   "display_name": "Python 3",
   "language": "python",
   "name": "python3"
  },
  "language_info": {
   "codemirror_mode": {
    "name": "ipython",
    "version": 3
   },
   "file_extension": ".py",
   "mimetype": "text/x-python",
   "name": "python",
   "nbconvert_exporter": "python",
   "pygments_lexer": "ipython3",
   "version": "3.6.9"
  }
 },
 "nbformat": 4,
 "nbformat_minor": 2
}
