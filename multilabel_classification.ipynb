{
 "cells": [
  {
   "cell_type": "code",
   "execution_count": 1,
   "metadata": {},
   "outputs": [],
   "source": [
    "import warnings\n",
    "warnings.filterwarnings('ignore')\n",
    "\n",
    "import logging;logging.basicConfig(level=logging.INFO);\n",
    "import numpy as np;\n",
    "import matplotlib.pyplot as plt; \n",
    "import logictensornetworks_wrapper as ltnw;\n",
    "import logictensornetworks as ltn"
   ]
  },
  {
   "cell_type": "code",
   "execution_count": 2,
   "metadata": {},
   "outputs": [],
   "source": [
    "nr_samples=500\n",
    "max_epochs=10000\n",
    "track_sat_levels=1000 #how often we query the knowledgebase sat level in training"
   ]
  },
  {
   "cell_type": "markdown",
   "metadata": {},
   "source": [
    "Sample random data from $[0,1]^2$"
   ]
  },
  {
   "cell_type": "code",
   "execution_count": 3,
   "metadata": {},
   "outputs": [],
   "source": [
    "data=np.random.uniform([0,0],[1.,1.],(nr_samples,2)).astype(np.float32)"
   ]
  },
  {
   "cell_type": "code",
   "execution_count": 4,
   "metadata": {},
   "outputs": [],
   "source": [
    "data_A=data[np.where(np.sum(np.square(data-[.5,.5]),axis=1)<.09)]\n",
    "data_B=data[np.where(np.sum(np.square(data-[.5,.5]),axis=1)>=.09)]"
   ]
  },
  {
   "cell_type": "code",
   "execution_count": 5,
   "metadata": {},
   "outputs": [
    {
     "data": {
      "text/plain": [
       "(140, 2)"
      ]
     },
     "execution_count": 5,
     "metadata": {},
     "output_type": "execute_result"
    }
   ],
   "source": [
    "data_A.shape"
   ]
  },
  {
   "cell_type": "markdown",
   "metadata": {},
   "source": [
    "### Load mnist data"
   ]
  },
  {
   "cell_type": "code",
   "execution_count": 6,
   "metadata": {},
   "outputs": [],
   "source": [
    "import mnist_input\n",
    "import numpy as np\n",
    "\n",
    "data_set_dir = \"mnist_data/\"\n",
    "\n",
    "TRAIN_IMAGES = 'train-images-idx3-ubyte.gz'\n",
    "TRAIN_LABELS = 'train-labels-idx1-ubyte.gz'"
   ]
  },
  {
   "cell_type": "code",
   "execution_count": 7,
   "metadata": {
    "scrolled": true
   },
   "outputs": [
    {
     "name": "stdout",
     "output_type": "stream",
     "text": [
      "Extracting mnist_data/train-images-idx3-ubyte.gz\n"
     ]
    }
   ],
   "source": [
    "local_file   = mnist_input.maybe_download(TRAIN_IMAGES, data_set_dir)\n",
    "train_images = mnist_input.extract_images(local_file)"
   ]
  },
  {
   "cell_type": "code",
   "execution_count": 8,
   "metadata": {},
   "outputs": [
    {
     "data": {
      "text/plain": [
       "(60000, 28, 28)"
      ]
     },
     "execution_count": 8,
     "metadata": {},
     "output_type": "execute_result"
    }
   ],
   "source": [
    "train_images.squeeze().shape"
   ]
  },
  {
   "cell_type": "code",
   "execution_count": 9,
   "metadata": {},
   "outputs": [
    {
     "name": "stdout",
     "output_type": "stream",
     "text": [
      "Extracting mnist_data/train-labels-idx1-ubyte.gz\n"
     ]
    }
   ],
   "source": [
    "local_file = mnist_input.maybe_download(TRAIN_LABELS, data_set_dir)\n",
    "train_labels = mnist_input.extract_labels(local_file, one_hot=False)"
   ]
  },
  {
   "cell_type": "code",
   "execution_count": 10,
   "metadata": {},
   "outputs": [
    {
     "data": {
      "image/png": "[encoded data removed]",
      "text/plain": [
       "<Figure size 432x288 with 1 Axes>"
      ]
     },
     "metadata": {
      "needs_background": "light"
     },
     "output_type": "display_data"
    }
   ],
   "source": [
    "from matplotlib import pyplot as plt\n",
    "\n",
    "plt.gray()\n",
    "plt.imshow(train_images[20].squeeze(), interpolation='nearest')\n",
    "plt.show()"
   ]
  },
  {
   "cell_type": "code",
   "execution_count": 11,
   "metadata": {},
   "outputs": [
    {
     "data": {
      "text/plain": [
       "4"
      ]
     },
     "execution_count": 11,
     "metadata": {},
     "output_type": "execute_result"
    }
   ],
   "source": [
    "train_labels[20]"
   ]
  },
  {
   "cell_type": "markdown",
   "metadata": {},
   "source": [
    "### Create correct data for training"
   ]
  },
  {
   "cell_type": "code",
   "execution_count": 12,
   "metadata": {},
   "outputs": [],
   "source": [
    "data_1 = train_images[np.where(train_labels == 1)].squeeze()\n",
    "data_2 = train_images[np.where(train_labels == 2)].squeeze()\n",
    "data_3 = train_images[np.where(train_labels == 3)].squeeze()"
   ]
  },
  {
   "cell_type": "code",
   "execution_count": 13,
   "metadata": {},
   "outputs": [
    {
     "data": {
      "text/plain": [
       "((6742, 28, 28), (5958, 28, 28), (6131, 28, 28))"
      ]
     },
     "execution_count": 13,
     "metadata": {},
     "output_type": "execute_result"
    }
   ],
   "source": [
    "data_1.shape, data_2.shape, data_3.shape"
   ]
  },
  {
   "cell_type": "code",
   "execution_count": 14,
   "metadata": {},
   "outputs": [],
   "source": [
    "# flatten \n",
    "data_1 = data_1.reshape(data_1.shape[0],784)[0:1000].astype(np.float32)\n",
    "data_2 = data_2.reshape(data_2.shape[0],784)[0:1000].astype(np.float32)\n",
    "data_3 = data_3.reshape(data_3.shape[0],784)[0:1000].astype(np.float32)\n",
    "\n",
    "# data_1 = data_1.reshape(data_1.shape[0],784).astype(np.float32)\n",
    "# data_2 = data_2.reshape(data_2.shape[0],784).astype(np.float32)\n",
    "# data_3 = data_3.reshape(data_3.shape[0],784).astype(np.float32)"
   ]
  },
  {
   "cell_type": "code",
   "execution_count": 15,
   "metadata": {},
   "outputs": [
    {
     "data": {
      "text/plain": [
       "(1000, 784)"
      ]
     },
     "execution_count": 15,
     "metadata": {},
     "output_type": "execute_result"
    }
   ],
   "source": [
    "data_1.shape"
   ]
  },
  {
   "cell_type": "code",
   "execution_count": 16,
   "metadata": {},
   "outputs": [],
   "source": [
    "ltn.LAYERS = 10"
   ]
  },
  {
   "cell_type": "code",
   "execution_count": 17,
   "metadata": {},
   "outputs": [
    {
     "data": {
      "text/plain": [
       "<tf.Tensor 'var_data_3:0' shape=(1000, 784) dtype=float32>"
      ]
     },
     "execution_count": 17,
     "metadata": {},
     "output_type": "execute_result"
    }
   ],
   "source": [
    "#ltnw.variable(\"?data\",data);\n",
    "ltnw.variable(\"?data_1\",data_1)\n",
    "ltnw.variable(\"?data_2\",data_2)\n",
    "ltnw.variable(\"?data_3\",data_3)"
   ]
  },
  {
   "cell_type": "code",
   "execution_count": 18,
   "metadata": {},
   "outputs": [
    {
     "name": "stderr",
     "output_type": "stream",
     "text": [
      "WARNING:tensorflow:From /home/gil/Documents/Master2/CapitaSelecta/logictensornetworks/logictensornetworks.py:266: The name tf.matrix_band_part is deprecated. Please use tf.linalg.band_part instead.\n",
      "\n",
      "WARNING:tensorflow:From /home/gil/Documents/Master2/CapitaSelecta/logictensornetworks/logictensornetworks.py:268: The name tf.random_normal is deprecated. Please use tf.random.normal instead.\n",
      "\n"
     ]
    },
    {
     "data": {
      "text/plain": [
       "<function logictensornetworks.predicate.<locals>.pred(*args)>"
      ]
     },
     "execution_count": 18,
     "metadata": {},
     "output_type": "execute_result"
    }
   ],
   "source": [
    "ltnw.predicate(\"num1\", 784)\n",
    "ltnw.predicate(\"num2\", 784)\n",
    "ltnw.predicate(\"num3\", 784)\n",
    "#ltnw.predicate(\"num2\",2);"
   ]
  },
  {
   "cell_type": "code",
   "execution_count": 19,
   "metadata": {},
   "outputs": [
    {
     "name": "stdout",
     "output_type": "stream",
     "text": [
      "forall ?data_1: num1(?data_1)\n",
      "forall ?data_1: ~num2(?data_1)\n",
      "forall ?data_1: ~num3(?data_1)\n",
      "forall ?data_2: num2(?data_2)\n",
      "forall ?data_2: ~num1(?data_2)\n",
      "forall ?data_2: ~num3(?data_2)\n",
      "forall ?data_3: num3(?data_3)\n",
      "forall ?data_3: ~num1(?data_3)\n",
      "forall ?data_3: ~num2(?data_3)\n"
     ]
    }
   ],
   "source": [
    "ltnw.axiom(\"forall ?data_1: num1(?data_1)\")\n",
    "ltnw.axiom(\"forall ?data_1: ~num2(?data_1)\")\n",
    "ltnw.axiom(\"forall ?data_1: ~num3(?data_1)\")\n",
    "\n",
    "ltnw.axiom(\"forall ?data_2: num2(?data_2)\")\n",
    "ltnw.axiom(\"forall ?data_2: ~num1(?data_2)\")\n",
    "ltnw.axiom(\"forall ?data_2: ~num3(?data_2)\")\n",
    "\n",
    "ltnw.axiom(\"forall ?data_3: num3(?data_3)\")\n",
    "ltnw.axiom(\"forall ?data_3: ~num1(?data_3)\")\n",
    "ltnw.axiom(\"forall ?data_3: ~num2(?data_3)\")\n",
    "\n",
    "\n",
    "print(\"\\n\".join(sorted(ltnw.AXIOMS.keys())))"
   ]
  },
  {
   "cell_type": "code",
   "execution_count": 20,
   "metadata": {},
   "outputs": [
    {
     "name": "stderr",
     "output_type": "stream",
     "text": [
      "INFO:logictensornetworks_wrapper:Initializing knowledgebase\n",
      "INFO:logictensornetworks_wrapper:Initializing Tensorflow session\n",
      "WARNING:tensorflow:From /home/gil/Documents/Master2/CapitaSelecta/logictensornetworks/logictensornetworks_wrapper.py:312: The name tf.InteractiveSession is deprecated. Please use tf.compat.v1.InteractiveSession instead.\n",
      "\n",
      "WARNING:tensorflow:From /home/gil/Documents/Master2/CapitaSelecta/logictensornetworks/logictensornetworks_wrapper.py:293: The name tf.global_variables is deprecated. Please use tf.compat.v1.global_variables instead.\n",
      "\n",
      "WARNING:tensorflow:From /home/gil/Documents/Master2/CapitaSelecta/logictensornetworks/logictensornetworks_wrapper.py:295: The name tf.global_variables_initializer is deprecated. Please use tf.compat.v1.global_variables_initializer instead.\n",
      "\n",
      "INFO:logictensornetworks_wrapper:Initializing optimizer\n",
      "WARNING:tensorflow:From /home/gil/Documents/Master2/CapitaSelecta/logictensornetworks/logictensornetworks_wrapper.py:336: The name tf.train.GradientDescentOptimizer is deprecated. Please use tf.compat.v1.train.GradientDescentOptimizer instead.\n",
      "\n",
      "INFO:logictensornetworks_wrapper:Assembling feed dict\n",
      "INFO:logictensornetworks_wrapper:INITIALIZE 0 sat level -----> 0.04400226\n",
      "INFO:logictensornetworks_wrapper:INITIALIZE 10 sat level -----> 0.023078538\n",
      "INFO:logictensornetworks_wrapper:INITIALIZE 20 sat level -----> 0.05662872\n",
      "INFO:logictensornetworks_wrapper:INITIALIZED with sat level = 0.11479048\n",
      "INFO:logictensornetworks_wrapper:TRAINING 0 sat level -----> 0.11479048\n",
      "INFO:logictensornetworks_wrapper:TRAINING 100 sat level -----> 0.2039888\n",
      "INFO:logictensornetworks_wrapper:TRAINING 200 sat level -----> 0.28886998\n",
      "INFO:logictensornetworks_wrapper:TRAINING 300 sat level -----> 0.36011994\n",
      "INFO:logictensornetworks_wrapper:TRAINING 400 sat level -----> 0.4315815\n",
      "INFO:logictensornetworks_wrapper:TRAINING 500 sat level -----> 0.4930255\n",
      "INFO:logictensornetworks_wrapper:TRAINING 600 sat level -----> 0.5246343\n",
      "INFO:logictensornetworks_wrapper:TRAINING 700 sat level -----> 0.53789353\n",
      "INFO:logictensornetworks_wrapper:TRAINING 800 sat level -----> 0.5434746\n",
      "INFO:logictensornetworks_wrapper:TRAINING 900 sat level -----> 0.5459229\n",
      "INFO:logictensornetworks_wrapper:TRAINING finished after 999 epochs with sat level 0.54704916\n"
     ]
    }
   ],
   "source": [
    "ltnw.initialize_knowledgebase(initial_sat_level_threshold=.1)\n",
    "sat_level=ltnw.train(track_sat_levels=100,sat_level_epsilon=.99,max_epochs=1000)"
   ]
  },
  {
   "cell_type": "code",
   "execution_count": 20,
   "metadata": {},
   "outputs": [
    {
     "data": {
      "text/plain": [
       "<tf.Tensor 'ltn_constant_foto1_1:0' shape=(784,) dtype=float32>"
      ]
     },
     "execution_count": 20,
     "metadata": {},
     "output_type": "execute_result"
    }
   ],
   "source": [
    "ltnw.constant(\"foto1_1\", data_1[0])"
   ]
  },
  {
   "cell_type": "code",
   "execution_count": 22,
   "metadata": {},
   "outputs": [
    {
     "name": "stdout",
     "output_type": "stream",
     "text": [
      "foto1_1 is in num1: [0.41534448]\n",
      "foto1_1 is in num2: [0.3867157]\n",
      "foto1_1 is in num3: [0.3845043]\n"
     ]
    }
   ],
   "source": [
    "print(\"foto1_1 is in num1: %s\" % ltnw.ask(\"num1(foto1_1)\"))\n",
    "print(\"foto1_1 is in num2: %s\" % ltnw.ask(\"num2(foto1_1)\"))\n",
    "print(\"foto1_1 is in num3: %s\" % ltnw.ask(\"num3(foto1_1)\"))"
   ]
  }
 ],
 "metadata": {
  "kernelspec": {
   "display_name": "Python 3",
   "language": "python",
   "name": "python3"
  },
  "language_info": {
   "codemirror_mode": {
    "name": "ipython",
    "version": 3
   },
   "file_extension": ".py",
   "mimetype": "text/x-python",
   "name": "python",
   "nbconvert_exporter": "python",
   "pygments_lexer": "ipython3",
   "version": "3.6.9"
  }
 },
 "nbformat": 4,
 "nbformat_minor": 2
}
